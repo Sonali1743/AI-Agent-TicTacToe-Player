{
  "nbformat": 4,
  "nbformat_minor": 0,
  "metadata": {
    "colab": {
      "provenance": []
    },
    "kernelspec": {
      "name": "python3",
      "display_name": "Python 3"
    },
    "language_info": {
      "name": "python"
    }
  },
  "cells": [
    {
      "cell_type": "code",
      "source": [
        "from collections import Counter\n",
        "\n",
        "# assigning 1 to player X, -1 to player O and 0 to empty cell\n",
        "BOARD_EMPTY = 0\n",
        "BOARD_PLAYER_X = 1\n",
        "BOARD_PLAYER_O = -1\n",
        "\n",
        "# determines whose turn it is (player X or player O) based on current state of the tic-tac-toe board\n",
        "def player(s):\n",
        "    counter = Counter(s)\n",
        "    x_places = counter[1]\n",
        "    o_places = counter[-1]\n",
        "\n",
        "    if x_places + o_places == 9:\n",
        "        return None\n",
        "    elif x_places > o_places:\n",
        "        return BOARD_PLAYER_O\n",
        "    else:\n",
        "        return BOARD_PLAYER_X"
      ],
      "metadata": {
        "id": "EVGApROgFd6Q"
      },
      "execution_count": 1,
      "outputs": []
    },
    {
      "cell_type": "code",
      "source": [
        "# determines 'player whose turn it is' and 'possible moves' based on the current game state\n",
        "def actions(s):\n",
        "    play = player(s)\n",
        "    actions_list = [(play, i) for i in range(len(s)) if s[i] == BOARD_EMPTY]\n",
        "    return actions_list\n",
        "\n",
        "# determines new game state after the player has made the move\n",
        "def result(s, a):\n",
        "    (play, index) = a\n",
        "    s_copy = s.copy()\n",
        "    s_copy[index] = play\n",
        "    return s_copy\n",
        "\n",
        "# returns: \"1\" or \"-1\" for winner, 0 for tie and 'None' if game is not over yet\n",
        "def terminal(s):\n",
        "    for i in range(3):\n",
        "        if s[3 * i] == s[3 * i + 1] == s[3 * i + 2] != BOARD_EMPTY:\n",
        "            return s[3 * i]\n",
        "        if s[i] == s[i + 3] == s[i + 6] != BOARD_EMPTY:\n",
        "            return s[i]\n",
        "\n",
        "    if s[0] == s[4] == s[8] != BOARD_EMPTY:\n",
        "        return s[0]\n",
        "    if s[2] == s[4] == s[6] != BOARD_EMPTY:\n",
        "        return s[2]\n",
        "\n",
        "    if player(s) is None:\n",
        "        return 0\n",
        "\n",
        "    return None"
      ],
      "metadata": {
        "id": "3U17E_BiH4GO"
      },
      "execution_count": 2,
      "outputs": []
    },
    {
      "cell_type": "code",
      "source": [
        "# importing required packages\n",
        "import random\n",
        "from math import log, sqrt"
      ],
      "metadata": {
        "id": "NH_Q68TZuDw4"
      },
      "execution_count": 3,
      "outputs": []
    },
    {
      "cell_type": "code",
      "source": [
        "# random monte carlo function (without any playout policy)\n",
        "def monte_carlo_random(s, simulations=2000):\n",
        "    move = [] # initializing move list; this will save the first child node for every simulation\n",
        "    score_per_sim = [] # initializing score_per_sim list; this will save the score (1 if agent wins, -1 if loses and 0 if tie) for every simulation\n",
        "\n",
        "    for _ in range(simulations): # iteratively running simulations to a terminal state and saving the move with its respective score for each simulation\n",
        "      s_copy = s.copy()\n",
        "      move_per_sim = []\n",
        "      available_moves = actions(s_copy)\n",
        "      random_move = random.choice(available_moves)\n",
        "      s_copy = result(s_copy, random_move)\n",
        "      while terminal(s_copy) is None:\n",
        "        available_moves = actions(s_copy)\n",
        "        random_move = random.choice(available_moves)\n",
        "        s_copy = result(s_copy, random_move)\n",
        "      move.append(random_move[1])\n",
        "\n",
        "      if terminal(s_copy) == BOARD_PLAYER_O:\n",
        "        score_per_sim.append(1)\n",
        "      elif terminal(s_copy) == BOARD_PLAYER_X:\n",
        "        score_per_sim.append(-1)\n",
        "      else:\n",
        "        score_per_sim.append(0)\n",
        "\n",
        "    # selecting the best move based on the score (selecting the move with the highest score)\n",
        "    x = list(zip(move, score_per_sim))\n",
        "    result_dict = {}\n",
        "    for item in x:\n",
        "      key, value = item\n",
        "      if key not in result_dict:\n",
        "        result_dict[key] = {'sum': 0, 'count': 0}\n",
        "      result_dict[key]['sum'] += value\n",
        "      result_dict[key]['count'] += 1\n",
        "    print(result_dict)\n",
        "\n",
        "    res = [(key, value['sum'] / value['count']) for key, value in result_dict.items()]\n",
        "    action = max(res, key=lambda l: l[1])\n",
        "    action = (-1,)+ action[:1]\n",
        "    return action"
      ],
      "metadata": {
        "id": "TFA7q2awZ74E"
      },
      "execution_count": 4,
      "outputs": []
    },
    {
      "cell_type": "code",
      "source": [
        "# setting this up to build Monte Carlo with UCT policy\n",
        "\n",
        "class Node:\n",
        "  def __init__(self, state, parent):\n",
        "    self.state = state\n",
        "    self.parent = parent\n",
        "    self.children = []\n",
        "    self.wins = 0\n",
        "    self.visits = 0\n",
        "\n",
        "  # determines the child with the highest UCB score\n",
        "  def select(self, c=1.4):\n",
        "    if not self.children:\n",
        "      return self\n",
        "    max_ucb = -float('inf')\n",
        "    best_child = None\n",
        "    for child in self.children:\n",
        "      if child.visits != 0:\n",
        "        ucb = child.wins / child.visits + c * sqrt(log(self.visits) / child.visits)\n",
        "      else:\n",
        "        ucb = float('inf')\n",
        "\n",
        "      if ucb > max_ucb:\n",
        "        max_ucb = ucb\n",
        "        best_child = child\n",
        "    return best_child\n",
        "\n",
        "  # expands the node and adds all possible child nodes to children\n",
        "  def expand(self):\n",
        "    for action in actions(self.state):\n",
        "      new_state = result(self.state, action)\n",
        "      child = Node(new_state, self)\n",
        "      self.children.append(child)\n",
        "\n",
        "  # simulates a game and returns final result (1 if agent wins, -1 if loses and 0 if tie)\n",
        "  def simulate(self):\n",
        "    state = self.state\n",
        "    while terminal(state) is None:\n",
        "      available_moves = actions(state)\n",
        "      random_move = random.choice(available_moves)\n",
        "      state = result(state, random_move)\n",
        "    return -terminal(state)\n",
        "\n",
        "  # backpropagates the results (wins and visits) for each visited node during the simulations\n",
        "  def backpropagate(self, result_per_sim):\n",
        "    self.wins += result_per_sim\n",
        "    self.visits += 1\n",
        "    if self.parent is not None:\n",
        "      self.parent.backpropagate(result_per_sim)\n"
      ],
      "metadata": {
        "id": "-9UPnDGB0GCU"
      },
      "execution_count": 5,
      "outputs": []
    },
    {
      "cell_type": "code",
      "source": [
        "# building Monte Carlo with UCT function to run simulations and return the best next move\n",
        "def monte_carlo_UCT(root, simulations=2000):\n",
        "  for _ in range(simulations):\n",
        "    node = root.select()\n",
        "    node.expand()\n",
        "    result_per_sim = node.simulate()\n",
        "    node.backpropagate(result_per_sim)\n",
        "  return root.select()"
      ],
      "metadata": {
        "id": "-st4IzKqsEuP"
      },
      "execution_count": 6,
      "outputs": []
    },
    {
      "cell_type": "code",
      "source": [
        "# to print the board in a nicer format\n",
        "def print_board(s):\n",
        "    def convert(num):\n",
        "        if num == BOARD_PLAYER_X:\n",
        "            return 'X'\n",
        "        if num == BOARD_PLAYER_O:\n",
        "            return 'O'\n",
        "        return '_'\n",
        "\n",
        "    i = 0\n",
        "    for _ in range(3):\n",
        "        for _ in range(3):\n",
        "            print(convert(s[i]), end=' ')\n",
        "            i += 1\n",
        "        print()"
      ],
      "metadata": {
        "id": "yKhKD6uNLMum"
      },
      "execution_count": 7,
      "outputs": []
    },
    {
      "cell_type": "code",
      "source": [
        "# function to play the tic-tac-toe game\n",
        "if __name__ == '__main__':\n",
        "    s = [BOARD_EMPTY for _ in range(9)] # setting initial board with all 0's\n",
        "    print('|------- WELCOME TO TIC TAC TOE -----------|')\n",
        "    print('You are X while the Computer is O')\n",
        "\n",
        "    while terminal(s) is None: # to play the game till someone wins or it ties\n",
        "        play = player(s)\n",
        "        if play == BOARD_PLAYER_X:\n",
        "            print('\\n\\nIt is your turn', end='\\n\\n')\n",
        "            x = int(input('Enter the x-coordinate [0-2]: '))\n",
        "            y = int(input('Enter the y-coordinate [0-2]: '))\n",
        "            index = 3 * x + y\n",
        "\n",
        "            if not s[index] == BOARD_EMPTY:\n",
        "                print('That coordinate is already taken. Please try again.')\n",
        "                continue\n",
        "\n",
        "            s = result(s, (1, index))\n",
        "            print_board(s)\n",
        "        else:\n",
        "            print('\\n\\nThe computer is playing its turn')\n",
        "            root = Node(s, None)                      # uncomment for monte_carlo_UCT and comment for monte_carlo_random\n",
        "            bestchildnode = monte_carlo_UCT(root)     # uncomment for monte_carlo_UCT and comment for monte_carlo_random\n",
        "            s = bestchildnode.state                   # uncomment for monte_carlo_UCT and comment for monte_carlo_random\n",
        "            #action = monte_carlo_random(s)           # uncomment for monte_carlo_random and comment for monte_carlo_UCT\n",
        "            #s = result(s, action)                    # uncomment for monte_carlo_random and comment for monte_carlo_UCT\n",
        "            print_board(s)\n",
        "\n",
        "    # determining and printing the winner\n",
        "    winner = terminal(s)\n",
        "    if winner == BOARD_PLAYER_X:\n",
        "        print(\"You have won!\")\n",
        "    elif winner == BOARD_PLAYER_O:\n",
        "        print(\"You have lost!\")\n",
        "    else:\n",
        "        print(\"It's a tie.\")"
      ],
      "metadata": {
        "id": "DEKSVQD2LU4v"
      },
      "execution_count": null,
      "outputs": []
    }
  ]
}